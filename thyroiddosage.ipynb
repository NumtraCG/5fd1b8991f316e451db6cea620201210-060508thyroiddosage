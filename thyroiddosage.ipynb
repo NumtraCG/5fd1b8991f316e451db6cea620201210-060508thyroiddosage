{
 "cells": [
  {
   "cell_type": "markdown",
   "metadata": {},
   "source": [
    "***GENERATED CODE FOR thyroiddosage PIPELINE.***"
   ]
  },
  {
   "cell_type": "markdown",
   "metadata": {},
   "source": [
    "***DON'T EDIT THIS CODE.***"
   ]
  },
  {
   "cell_type": "markdown",
   "metadata": {},
   "source": [
    "***CONNECTOR FUNCTIONS TO READ DATA.***"
   ]
  },
  {
   "cell_type": "code",
   "execution_count": null,
   "metadata": {},
   "outputs": [],
   "source": []
  },
  {
   "cell_type": "markdown",
   "metadata": {},
   "source": [
    "***TRANSFORMATIONS FUNCTIONS THAT WILL BE APPLIED ON DATA***"
   ]
  },
  {
   "cell_type": "code",
   "execution_count": null,
   "metadata": {},
   "outputs": [],
   "source": [
    "import json\n",
    "from pyspark.sql.types import IntegerType\n",
    "from pyspark.ml.feature import StringIndexer\n",
    "from pyspark.sql.functions import col, when\n",
    "from pyspark.sql.types import IntegerType\n",
    "from pyspark.sql.functions import mean, stddev, min, max, col\n",
    "\n",
    "\n",
    "class CleanseData:\n",
    "    # def __init__(self,df):\n",
    "    #     #print()\n",
    "\n",
    "    def replaceByMean(self, feature, df, mean_=-1):\n",
    "\n",
    "        meanValue = df.select(mean(col(feature.name)).alias(\n",
    "            'mean')).collect()[0][\"mean\"]\n",
    "        df.fillna(meanValue, subset=[feature.name])\n",
    "        df.withColumn(feature.name, when(col(feature.name) == \" \",\n",
    "                                         meanValue).otherwise(col(feature.name).cast(\"Integer\")))\n",
    "        return df\n",
    "\n",
    "    def replaceByMax(self, feature, df, max_=-1):\n",
    "        maxValue = df.select(max(col(feature.name)).alias('max')).collect()[\n",
    "            0][\"max\"]\n",
    "        df.fillna(maxValue, subset=[feature.name])\n",
    "        df = df.withColumn(feature.name,\n",
    "                           when(col(feature.name) == \" \", maxValue).otherwise(col(feature.name)))\n",
    "        return df\n",
    "\n",
    "    def replaceByMin(self, feature, df, min_=-1):\n",
    "        minValue = df.select(min(col(feature.name)).alias('min')).collect()[\n",
    "            0][\"min\"]\n",
    "        df.fillna(minValue, subset=[feature.name])\n",
    "        df = df.withColumn(feature.name,\n",
    "                           when(col(feature.name) == \" \", minValue).otherwise(col(feature.name)))\n",
    "        return df\n",
    "\n",
    "    def replaceByStandardDeviation(self, feature, df, stddev_=-1):\n",
    "        stddevValue = df.select(stddev(col(feature.name)).alias(\n",
    "            'stddev')).collect()[0][\"stddev\"]\n",
    "        df.fillna(stddevValue, subset=[feature.name])\n",
    "        df = df.withColumn(feature.name,\n",
    "                           when(col(feature.name) == \" \", stddevValue).otherwise(col(feature.name)))\n",
    "        return df\n",
    "\n",
    "    def replaceDateRandomly(self, feature, df):\n",
    "        fillValue = df.where(col(feature.name).isNotNull()\n",
    "                             ).head(1)[0][feature.name]\n",
    "        df.fillna(str(fillValue), subset=[feature.name])\n",
    "        df = df.withColumn(feature.name,\n",
    "                           when(col(feature.name) == \" \", fillValue).otherwise(col(feature.name)))\n",
    "        # print(\"CleanseData:replaceDateRandomly Schema : \", df.#printSchema())\n",
    "        return df\n",
    "\n",
    "    def replaceNullValues(self, fList, df):\n",
    "        featuresList = df.schema.fields\n",
    "        for featureObj in fList:\n",
    "            for feat in featuresList:\n",
    "                if featureObj[\"feature\"] in feat.name:\n",
    "                    featureName = feat\n",
    "                    if \"mean\" in featureObj[\"replaceby\"]:\n",
    "                        df = self.replaceByMean(featureName, df)\n",
    "                    elif \"max\" in featureObj[\"replaceby\"]:\n",
    "                        df = self.replaceByMax(featureName, df)\n",
    "                    elif \"min\" in featureObj[\"replaceby\"]:\n",
    "                        df = self.replaceByMin(featureName, df)\n",
    "                    elif \"stddev\" in featureObj[\"replaceby\"]:\n",
    "                        df = self.replaceByStandardDeviation(featureName, df)\n",
    "                    elif \"random\" in featureObj[\"replaceby\"]:\n",
    "                        df = self.replaceDateRandomly(featureName, df)\n",
    "        return df\n",
    "\n",
    "\n",
    "def StringIndexerTransform(df, params, transformationData={}):\n",
    "    dfReturn = df\n",
    "    feature = params[\"feature\"]\n",
    "\n",
    "    dfReturn = dfReturn.fillna({feature: ''})\n",
    "    outcol = feature + \"_stringindexer\"\n",
    "    indexer = StringIndexer(\n",
    "        inputCol=feature, outputCol=outcol, handleInvalid=\"skip\")\n",
    "    indexed = indexer.fit(dfReturn).transform(dfReturn)\n",
    "    dfReturn = indexed\n",
    "    distinct_values_list = dfReturn.select(\n",
    "        outcol).distinct().rdd.map(lambda r: r[0]).collect()\n",
    "    len_distinct_values_list = len(distinct_values_list)\n",
    "    if len_distinct_values_list <= 4:\n",
    "        changed_type_df = dfReturn.withColumn(\n",
    "            outcol, dfReturn[outcol].cast(IntegerType()))\n",
    "        return changed_type_df\n",
    "    return dfReturn\n",
    "\n",
    "\n",
    "class TransformationMain:\n",
    "    # TODO: change df argument in run with following\n",
    "    def run(transformationDF, config):\n",
    "        configObj = json.loads(config)\n",
    "        featureData = configObj[\"FE\"]\n",
    "        transformationDF = CleanseData().replaceNullValues(featureData, transformationDF)\n",
    "        transformationDF = transformationDF.drop('Patientid')\n",
    "        transformationDF = transformationDF.drop('Visit Date')\n",
    "        transformationDF = StringIndexerTransform(transformationDF, {'transformationsData': [{'transformation_label': 'String Indexer', 'feature_label': 'Gender'}], 'feature': 'Gender', 'type': 'string', 'selected': 'True', 'replaceby': 'max', 'stats': {\n",
    "            'count': '168', 'mean': '', 'stddev': '', 'min': 'Female', 'max': 'Male', 'missing': '0'}, 'transformation': [{'transformation': 'String Indexer', 'selectedAsDefault': 1}], 'updatedLabel': 'Gender'}, {'transformation_label': 'String Indexer', 'feature_label': 'Gender'})\n",
    "        transformationDF = transformationDF.drop('Gender')\n",
    "        display(transformationDF.limit(2).toPandas())\n",
    "        return transformationDF\n"
   ]
  },
  {
   "cell_type": "markdown",
   "metadata": {},
   "source": [
    "***AUTOML FUNCTIONS***"
   ]
  },
  {
   "cell_type": "code",
   "execution_count": null,
   "metadata": {},
   "outputs": [],
   "source": [
    "from sklearn.model_selection import train_test_split\n",
    "from tpot import TPOTRegressor\n",
    "import pyspark\n",
    "\n",
    "\n",
    "def functionRegression(sparkDF, listOfFeatures, label):\n",
    "    sparkDF.persist(pyspark.StorageLevel.MEMORY_AND_DISK)\n",
    "    df = sparkDF.toPandas()\n",
    "    X = (df.drop(label, axis=1))[listOfFeatures].values\n",
    "    y = df[label].values\n",
    "    X_train, X_test, y_train, y_test = train_test_split(\n",
    "        X, y, random_state=1, test_size=0.1)\n",
    "    tpotModel = TPOTRegressor(verbosity=3, generations=10, max_time_mins=5,\n",
    "                              n_jobs=-1, random_state=25, population_size=15)\n",
    "    tpotModel.fit(X_train, y_train)\n",
    "    display(\" Error rate of Model : %s\" % tpotModel.score(X_test, y_test))\n",
    "    data = {'model': tpotModel,\n",
    "            'X_test': X_test,\n",
    "            'y_test': y_test,\n",
    "            'label': label,\n",
    "            'columnNames': listOfFeatures}\n",
    "    return data\n"
   ]
  },
  {
   "cell_type": "markdown",
   "metadata": {},
   "source": [
    "***READING DATAFRAME***"
   ]
  },
  {
   "cell_type": "code",
   "execution_count": null,
   "metadata": {},
   "outputs": [],
   "source": [
    "from pyspark.sql import SparkSession\n",
    "spark = SparkSession.builder.getOrCreate()\n",
    "\n",
    "#%run thyroiddosageHooks.ipynb\n",
    "try:\n",
    "\t#sourcePreExecutionHook()\n",
    "\n",
    "\tthyroiddataset = HDFSConnector.fetch(spark, \"{'is_header': 'Use Header Line', 'fileType': 'Delimeted', 'domain': 'http://35.230.65.179', 'baseType': 'hdfs', 'url': '/FileStore/platform/uploadedSourceFiles/thyroid_dataset.csv', 'filename': 'thyroid_dataset.csv', 'token': '1', 'delimiter': ','}\")\n",
    "\n",
    "except Exception as ex: \n",
    "\tlogging.error(ex)\n"
   ]
  },
  {
   "cell_type": "markdown",
   "metadata": {},
   "source": [
    "***TRANSFORMING DATAFRAME***"
   ]
  },
  {
   "cell_type": "code",
   "execution_count": null,
   "metadata": {},
   "outputs": [],
   "source": [
    "#%run thyroiddosageHooks.ipynb\n",
    "try:\n",
    "\t#transformationPreExecutionHook()\n",
    "\n",
    "\tmanualfe = TransformationMain.run(thyroiddataset,json.dumps( {\"FE\": [{\"transformationsData\": [{\"transformation_label\": \"novalue\"}], \"feature\": \"Patientid\", \"transformation\": [{\"transformation\": \"novalue\", \"selectedAsDefault\": 1}], \"type\": \"numeric\", \"replaceby\": \"mean\", \"selected\": \"False\", \"stats\": {\"count\": \"168\", \"mean\": \"14790.29\", \"stddev\": \"6994.25\", \"min\": \"144\", \"max\": \"27482\", \"missing\": \"0\"}, \"updatedLabel\": \"Patientid\"}, {\"transformationsData\": [{\"transformation_label\": \"novalue\"}], \"feature\": \"Visit Date\", \"type\": \"string\", \"selected\": \"False\", \"replaceby\": \"max\", \"stats\": {\"count\": \"168\", \"mean\": \"\", \"stddev\": \"\", \"min\": \"10/1/2019\", \"max\": \"9/9/2016\", \"missing\": \"0\"}, \"transformation\": [{\"transformation\": \"novalue\", \"selectedAsDefault\": 1}], \"updatedLabel\": \"Visit Date\"}, {\"transformationsData\": [{\"transformation_label\": \"String Indexer\", \"feature_label\": \"Gender\"}], \"feature\": \"Gender\", \"type\": \"string\", \"selected\": \"True\", \"replaceby\": \"max\", \"stats\": {\"count\": \"168\", \"mean\": \"\", \"stddev\": \"\", \"min\": \"Female\", \"max\": \"Male\", \"missing\": \"0\"}, \"transformation\": [{\"transformation\": \"String Indexer\", \"selectedAsDefault\": 1}], \"updatedLabel\": \"Gender\"}, {\"transformationsData\": [{\"transformation_label\": \"novalue\"}], \"feature\": \"Dosage\", \"type\": \"real\", \"selected\": \"True\", \"replaceby\": \"mean\", \"stats\": {\"count\": \"168\", \"mean\": \"84.96\", \"stddev\": \"52.23\", \"min\": \"5.0\", \"max\": \"400.0\", \"missing\": \"0\"}, \"transformation\": [{\"transformation\": \"novalue\", \"selectedAsDefault\": 1}], \"updatedLabel\": \"Dosage\"}, {\"transformationsData\": [{\"transformation_label\": \"novalue\"}], \"feature\": \"Gender_Num\", \"transformation\": [{\"transformation\": \"novalue\", \"selectedAsDefault\": 1}], \"type\": \"numeric\", \"replaceby\": \"mean\", \"selected\": \"True\", \"stats\": {\"count\": \"168\", \"mean\": \"0.27\", \"stddev\": \"0.44\", \"min\": \"0\", \"max\": \"1\", \"missing\": \"0\"}, \"updatedLabel\": \"Gender_Num\"}, {\"transformationsData\": [{\"transformation_label\": \"novalue\"}], \"feature\": \"Height\", \"type\": \"real\", \"selected\": \"True\", \"replaceby\": \"mean\", \"stats\": {\"count\": \"168\", \"mean\": \"154.07\", \"stddev\": \"8.04\", \"min\": \"120.5\", \"max\": \"178.0\", \"missing\": \"0\"}, \"transformation\": [{\"transformation\": \"novalue\", \"selectedAsDefault\": 1}], \"updatedLabel\": \"Height\"}, {\"transformationsData\": [{\"transformation_label\": \"novalue\"}], \"feature\": \"Weight\", \"type\": \"real\", \"selected\": \"True\", \"replaceby\": \"mean\", \"stats\": {\"count\": \"168\", \"mean\": \"65.59\", \"stddev\": \"10.89\", \"min\": \"37.3\", \"max\": \"96.3\", \"missing\": \"0\"}, \"transformation\": [{\"transformation\": \"novalue\", \"selectedAsDefault\": 1}], \"updatedLabel\": \"Weight\"}, {\"transformationsData\": [{\"transformation_label\": \"novalue\"}], \"feature\": \"Age\", \"transformation\": [{\"transformation\": \"novalue\", \"selectedAsDefault\": 1}], \"type\": \"numeric\", \"replaceby\": \"mean\", \"selected\": \"True\", \"stats\": {\"count\": \"168\", \"mean\": \"36.0\", \"stddev\": \"11.67\", \"min\": \"12\", \"max\": \"70\", \"missing\": \"0\"}, \"updatedLabel\": \"Age\"}, {\"transformationsData\": [{\"transformation_label\": \"novalue\"}], \"feature\": \"BMI\", \"type\": \"real\", \"selected\": \"True\", \"replaceby\": \"mean\", \"stats\": {\"count\": \"168\", \"mean\": \"27.48\", \"stddev\": \"4.59\", \"min\": \"16.22\", \"max\": \"39.3\", \"missing\": \"0\"}, \"transformation\": [{\"transformation\": \"novalue\", \"selectedAsDefault\": 1}], \"updatedLabel\": \"BMI\"}, {\"transformationsData\": [{\"transformation_label\": \"novalue\"}], \"feature\": \"Baseline TSH\", \"type\": \"real\", \"selected\": \"True\", \"replaceby\": \"mean\", \"stats\": {\"count\": \"168\", \"mean\": \"8.01\", \"stddev\": \"6.98\", \"min\": \"0.005\", \"max\": \"26.3\", \"missing\": \"0\"}, \"transformation\": [{\"transformation\": \"novalue\", \"selectedAsDefault\": 1}], \"updatedLabel\": \"Baseline TSH\"}, {\"transformationsData\": [{\"transformation_label\": \"novalue\"}], \"feature\": \"Baseline T3\", \"type\": \"real\", \"selected\": \"True\", \"replaceby\": \"mean\", \"stats\": {\"count\": \"168\", \"mean\": \"1.34\", \"stddev\": \"0.79\", \"min\": \"0.3\", \"max\": \"3.677763851\", \"missing\": \"0\"}, \"transformation\": [{\"transformation\": \"novalue\", \"selectedAsDefault\": 1}], \"updatedLabel\": \"Baseline T3\"}, {\"transformationsData\": [{\"transformation_label\": \"novalue\"}], \"feature\": \"Baseline T4\", \"type\": \"real\", \"selected\": \"True\", \"replaceby\": \"mean\", \"stats\": {\"count\": \"168\", \"mean\": \"8.2\", \"stddev\": \"2.52\", \"min\": \"1.4\", \"max\": \"14.75\", \"missing\": \"0\"}, \"transformation\": [{\"transformation\": \"novalue\", \"selectedAsDefault\": 1}], \"updatedLabel\": \"Baseline T4\"}, {\"transformationsData\": [{\"transformation_label\": \"novalue\"}], \"feature\": \"Baseline FT4\", \"type\": \"real\", \"selected\": \"True\", \"replaceby\": \"mean\", \"stats\": {\"count\": \"168\", \"mean\": \"1.19\", \"stddev\": \"0.31\", \"min\": \"0.33\", \"max\": \"1.96\", \"missing\": \"0\"}, \"transformation\": [{\"transformation\": \"novalue\", \"selectedAsDefault\": 1}], \"updatedLabel\": \"Baseline FT4\"}, {\"transformationsData\": [{\"transformation_label\": \"novalue\"}], \"feature\": \"TSH After Dosage\", \"type\": \"real\", \"selected\": \"True\", \"replaceby\": \"mean\", \"stats\": {\"count\": \"168\", \"mean\": \"5.74\", \"stddev\": \"5.5\", \"min\": \"0.005\", \"max\": \"20.98\", \"missing\": \"0\"}, \"transformation\": [{\"transformation\": \"novalue\", \"selectedAsDefault\": 1}], \"updatedLabel\": \"TSH After Dosage\"}, {\"transformationsData\": [{\"transformation_label\": \"novalue\"}], \"feature\": \"T3 After Dosage\", \"type\": \"real\", \"selected\": \"True\", \"replaceby\": \"mean\", \"stats\": {\"count\": \"168\", \"mean\": \"1.22\", \"stddev\": \"0.44\", \"min\": \"0.62\", \"max\": \"2.5826563730000003\", \"missing\": \"0\"}, \"transformation\": [{\"transformation\": \"novalue\", \"selectedAsDefault\": 1}], \"updatedLabel\": \"T3 After Dosage\"}, {\"transformationsData\": [{\"transformation_label\": \"novalue\"}], \"feature\": \"T4 After Dosage\", \"type\": \"real\", \"selected\": \"True\", \"replaceby\": \"mean\", \"stats\": {\"count\": \"168\", \"mean\": \"8.92\", \"stddev\": \"2.37\", \"min\": \"1.74\", \"max\": \"15.82\", \"missing\": \"0\"}, \"transformation\": [{\"transformation\": \"novalue\", \"selectedAsDefault\": 1}], \"updatedLabel\": \"T4 After Dosage\"}, {\"transformationsData\": [{\"transformation_label\": \"novalue\"}], \"feature\": \"FT4 After Dosage\", \"type\": \"real\", \"selected\": \"True\", \"replaceby\": \"mean\", \"stats\": {\"count\": \"168\", \"mean\": \"1.27\", \"stddev\": \"0.29\", \"min\": \"0.51\", \"max\": \"2.03\", \"missing\": \"0\"}, \"transformation\": [{\"transformation\": \"novalue\", \"selectedAsDefault\": 1}], \"updatedLabel\": \"FT4 After Dosage\"}]}))\n",
    "\n",
    "\t#transformationPostExecutionHook(manualfe)\n",
    "\n",
    "except Exception as ex: \n",
    "\tlogging.error(ex)\n"
   ]
  },
  {
   "cell_type": "markdown",
   "metadata": {},
   "source": [
    "***TRAIN MODEL***"
   ]
  },
  {
   "cell_type": "code",
   "execution_count": null,
   "metadata": {},
   "outputs": [],
   "source": [
    "#%run thyroiddosageHooks.ipynb\n",
    "try:\n",
    "\t#mlPreExecutionHook()\n",
    "\n",
    "\tdataAutoML=functionRegression(manualfe, [\"Gender_stringindexer\", \"Gender_Num\", \"Height\", \"Weight\", \"Age\", \"BMI\", \"Baseline TSH\", \"Baseline T3\", \"Baseline T4\", \"Baseline FT4\", \"TSH After Dosage\", \"T3 After Dosage\", \"T4 After Dosage\", \"FT4 After Dosage\"], \"Dosage\")\n",
    "\n",
    "\t#mlPostExecutionHook(dataAutoML)\n",
    "\n",
    "except Exception as ex: \n",
    "\tlogging.error(ex)\n"
   ]
  },
  {
   "cell_type": "markdown",
   "metadata": {},
   "source": [
    "***PREDICT ON TRAINED MODEL***"
   ]
  },
  {
   "cell_type": "code",
   "execution_count": null,
   "metadata": {},
   "outputs": [],
   "source": [
    "import pandas as pd\n",
    "import numpy as np\n",
    "import sklearn.metrics\n",
    "\n",
    "try:\n",
    "    model=dataAutoML ['model']\n",
    "    X_test=dataAutoML['X_test']\n",
    "    y_test=dataAutoML['y_test']\n",
    "    label=dataAutoML['label']\n",
    "    columnNames=dataAutoML['columnNames']\n",
    "    if label in columnNames:\n",
    "        columnNames.remove(label)\n",
    "    predicted=label+\"_predicted\"\n",
    "    y_predicted=model.predict(X_test)\n",
    "    df =pd.DataFrame(X_test , columns=columnNames)\n",
    "    df[label]=y_test\n",
    "    df[predicted]=y_predicted\n",
    "    columnNames.insert(0,predicted)\n",
    "    columnNames.insert(0,label)\n",
    "    df = df[columnNames]\n",
    "    R2 = np.round(sklearn.metrics.r2_score(y_test, y_predicted), 1)\n",
    "    Mean_Squared_Error = np.round(sklearn.metrics.mean_squared_error(y_test, y_predicted), 1)\n",
    "    Mean_Absolute_Error = np.round(sklearn.metrics.mean_absolute_error(y_test, y_predicted), 1)\n",
    "    display(\" R2 score of Prediction on test data    : %s\"%R2)\n",
    "    display(\" Mean Squared Error of Prediction on test data    : %s\"%Mean_Squared_Error)\n",
    "    display(\" Mean Absolute Error of Prediction on test data   : %s\"%Mean_Absolute_Error)\n",
    "    display(df.head())\n",
    "except Exception as ex:\n",
    "    logging.error(ex)\n",
    "\n"
   ]
  }
 ],
 "metadata": {},
 "nbformat": 4,
 "nbformat_minor": 2
}
